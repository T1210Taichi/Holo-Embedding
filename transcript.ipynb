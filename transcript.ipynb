{
 "cells": [
  {
   "cell_type": "markdown",
   "id": "8fbc51ab-0c78-4afd-a81c-5318f61983d5",
   "metadata": {},
   "source": [
    "# 目的\n",
    "youtubeから動画のURLを取得し，文字起こしを行う．\n",
    "以下の手順で進める．\n",
    "\n",
    "* csvから動画のURLを取得\n",
    "* 動画を保存し音声ファイルに変換\n",
    "* 音声ファイルをwhisperを用いて文字起こし\n",
    "* 文字起こしの内容をtranscriptionに保存する\n",
    "* 動画と音声ファイルは削除する"
   ]
  },
  {
   "cell_type": "markdown",
   "id": "e9df1676-7171-4c54-a89f-ac795c314e34",
   "metadata": {},
   "source": [
    "# import "
   ]
  },
  {
   "cell_type": "code",
   "execution_count": 40,
   "id": "43bb1030-952e-4b7a-af1f-bd8f8f890de0",
   "metadata": {},
   "outputs": [
    {
     "ename": "ModuleNotFoundError",
     "evalue": "No module named 'past'",
     "output_type": "error",
     "traceback": [
      "\u001b[0;31m---------------------------------------------------------------------------\u001b[0m",
      "\u001b[0;31mModuleNotFoundError\u001b[0m                       Traceback (most recent call last)",
      "\u001b[0;32m/tmp/ipykernel_34697/1372874184.py\u001b[0m in \u001b[0;36m<cell line: 4>\u001b[0;34m()\u001b[0m\n\u001b[1;32m      2\u001b[0m \u001b[0;32mimport\u001b[0m \u001b[0mos\u001b[0m\u001b[0;34m\u001b[0m\u001b[0;34m\u001b[0m\u001b[0m\n\u001b[1;32m      3\u001b[0m \u001b[0;32mimport\u001b[0m \u001b[0myoutube_dl\u001b[0m\u001b[0;34m\u001b[0m\u001b[0;34m\u001b[0m\u001b[0m\n\u001b[0;32m----> 4\u001b[0;31m \u001b[0;32mimport\u001b[0m \u001b[0mwhisper\u001b[0m\u001b[0;34m\u001b[0m\u001b[0;34m\u001b[0m\u001b[0m\n\u001b[0m",
      "\u001b[0;32m~/.local/lib/python3.8/site-packages/whisper/__init__.py\u001b[0m in \u001b[0;36m<module>\u001b[0;34m\u001b[0m\n\u001b[1;32m      9\u001b[0m \u001b[0;32mfrom\u001b[0m \u001b[0mtqdm\u001b[0m \u001b[0;32mimport\u001b[0m \u001b[0mtqdm\u001b[0m\u001b[0;34m\u001b[0m\u001b[0;34m\u001b[0m\u001b[0m\n\u001b[1;32m     10\u001b[0m \u001b[0;34m\u001b[0m\u001b[0m\n\u001b[0;32m---> 11\u001b[0;31m \u001b[0;32mfrom\u001b[0m \u001b[0;34m.\u001b[0m\u001b[0maudio\u001b[0m \u001b[0;32mimport\u001b[0m \u001b[0mload_audio\u001b[0m\u001b[0;34m,\u001b[0m \u001b[0mlog_mel_spectrogram\u001b[0m\u001b[0;34m,\u001b[0m \u001b[0mpad_or_trim\u001b[0m\u001b[0;34m\u001b[0m\u001b[0;34m\u001b[0m\u001b[0m\n\u001b[0m\u001b[1;32m     12\u001b[0m \u001b[0;32mfrom\u001b[0m \u001b[0;34m.\u001b[0m\u001b[0mdecoding\u001b[0m \u001b[0;32mimport\u001b[0m \u001b[0mDecodingOptions\u001b[0m\u001b[0;34m,\u001b[0m \u001b[0mDecodingResult\u001b[0m\u001b[0;34m,\u001b[0m \u001b[0mdecode\u001b[0m\u001b[0;34m,\u001b[0m \u001b[0mdetect_language\u001b[0m\u001b[0;34m\u001b[0m\u001b[0;34m\u001b[0m\u001b[0m\n\u001b[1;32m     13\u001b[0m \u001b[0;32mfrom\u001b[0m \u001b[0;34m.\u001b[0m\u001b[0mmodel\u001b[0m \u001b[0;32mimport\u001b[0m \u001b[0mWhisper\u001b[0m\u001b[0;34m,\u001b[0m \u001b[0mModelDimensions\u001b[0m\u001b[0;34m\u001b[0m\u001b[0;34m\u001b[0m\u001b[0m\n",
      "\u001b[0;32m~/.local/lib/python3.8/site-packages/whisper/audio.py\u001b[0m in \u001b[0;36m<module>\u001b[0;34m\u001b[0m\n\u001b[1;32m      3\u001b[0m \u001b[0;32mfrom\u001b[0m \u001b[0mtyping\u001b[0m \u001b[0;32mimport\u001b[0m \u001b[0mUnion\u001b[0m\u001b[0;34m\u001b[0m\u001b[0;34m\u001b[0m\u001b[0m\n\u001b[1;32m      4\u001b[0m \u001b[0;34m\u001b[0m\u001b[0m\n\u001b[0;32m----> 5\u001b[0;31m \u001b[0;32mimport\u001b[0m \u001b[0mffmpeg\u001b[0m\u001b[0;34m\u001b[0m\u001b[0;34m\u001b[0m\u001b[0m\n\u001b[0m\u001b[1;32m      6\u001b[0m \u001b[0;32mimport\u001b[0m \u001b[0mnumpy\u001b[0m \u001b[0;32mas\u001b[0m \u001b[0mnp\u001b[0m\u001b[0;34m\u001b[0m\u001b[0;34m\u001b[0m\u001b[0m\n\u001b[1;32m      7\u001b[0m \u001b[0;32mimport\u001b[0m \u001b[0mtorch\u001b[0m\u001b[0;34m\u001b[0m\u001b[0;34m\u001b[0m\u001b[0m\n",
      "\u001b[0;32m~/.local/lib/python3.8/site-packages/ffmpeg/__init__.py\u001b[0m in \u001b[0;36m<module>\u001b[0;34m\u001b[0m\n\u001b[1;32m      1\u001b[0m \u001b[0;32mfrom\u001b[0m \u001b[0m__future__\u001b[0m \u001b[0;32mimport\u001b[0m \u001b[0municode_literals\u001b[0m\u001b[0;34m\u001b[0m\u001b[0;34m\u001b[0m\u001b[0m\n\u001b[0;32m----> 2\u001b[0;31m \u001b[0;32mfrom\u001b[0m \u001b[0;34m.\u001b[0m \u001b[0;32mimport\u001b[0m \u001b[0mnodes\u001b[0m\u001b[0;34m\u001b[0m\u001b[0;34m\u001b[0m\u001b[0m\n\u001b[0m\u001b[1;32m      3\u001b[0m \u001b[0;32mfrom\u001b[0m \u001b[0;34m.\u001b[0m \u001b[0;32mimport\u001b[0m \u001b[0m_ffmpeg\u001b[0m\u001b[0;34m\u001b[0m\u001b[0;34m\u001b[0m\u001b[0m\n\u001b[1;32m      4\u001b[0m \u001b[0;32mfrom\u001b[0m \u001b[0;34m.\u001b[0m \u001b[0;32mimport\u001b[0m \u001b[0m_filters\u001b[0m\u001b[0;34m\u001b[0m\u001b[0;34m\u001b[0m\u001b[0m\n\u001b[1;32m      5\u001b[0m \u001b[0;32mfrom\u001b[0m \u001b[0;34m.\u001b[0m \u001b[0;32mimport\u001b[0m \u001b[0m_probe\u001b[0m\u001b[0;34m\u001b[0m\u001b[0;34m\u001b[0m\u001b[0m\n",
      "\u001b[0;32m~/.local/lib/python3.8/site-packages/ffmpeg/nodes.py\u001b[0m in \u001b[0;36m<module>\u001b[0;34m\u001b[0m\n\u001b[1;32m      1\u001b[0m \u001b[0;32mfrom\u001b[0m \u001b[0m__future__\u001b[0m \u001b[0;32mimport\u001b[0m \u001b[0municode_literals\u001b[0m\u001b[0;34m\u001b[0m\u001b[0;34m\u001b[0m\u001b[0m\n\u001b[1;32m      2\u001b[0m \u001b[0;34m\u001b[0m\u001b[0m\n\u001b[0;32m----> 3\u001b[0;31m \u001b[0;32mfrom\u001b[0m \u001b[0mpast\u001b[0m\u001b[0;34m.\u001b[0m\u001b[0mbuiltins\u001b[0m \u001b[0;32mimport\u001b[0m \u001b[0mbasestring\u001b[0m\u001b[0;34m\u001b[0m\u001b[0;34m\u001b[0m\u001b[0m\n\u001b[0m\u001b[1;32m      4\u001b[0m \u001b[0;32mfrom\u001b[0m \u001b[0;34m.\u001b[0m\u001b[0mdag\u001b[0m \u001b[0;32mimport\u001b[0m \u001b[0mKwargReprNode\u001b[0m\u001b[0;34m\u001b[0m\u001b[0;34m\u001b[0m\u001b[0m\n\u001b[1;32m      5\u001b[0m \u001b[0;32mfrom\u001b[0m \u001b[0;34m.\u001b[0m\u001b[0m_utils\u001b[0m \u001b[0;32mimport\u001b[0m \u001b[0mescape_chars\u001b[0m\u001b[0;34m,\u001b[0m \u001b[0mget_hash_int\u001b[0m\u001b[0;34m\u001b[0m\u001b[0;34m\u001b[0m\u001b[0m\n",
      "\u001b[0;31mModuleNotFoundError\u001b[0m: No module named 'past'"
     ]
    }
   ],
   "source": [
    "import csv\n",
    "import os\n",
    "import youtube_dl\n",
    "import whisper"
   ]
  },
  {
   "cell_type": "markdown",
   "id": "032bf00e-09ee-4fbb-90bd-000dc30ce046",
   "metadata": {},
   "source": [
    "# csvからURLを取得"
   ]
  },
  {
   "cell_type": "code",
   "execution_count": 22,
   "id": "736494cf-2f62-45d5-806f-369c6da7b7fa",
   "metadata": {},
   "outputs": [
    {
     "name": "stdout",
     "output_type": "stream",
     "text": [
      "20230122_045621_雪花ラミィ_UCFKOVgVbGmX65RxO3EtH3iw_channel-video-info.csv\n",
      "20230122_045942_花畑チャイカ_UCsFn_ueskBkMCEyzCEqAOvg_channel-video-info.csv\n",
      "20230122_045838_不知火フレア_UCvInZx9h3jC2JzsIzoOebWg_channel-video-info.csv\n",
      "20230122_041818_博衣こより_UC6eWCld0KwmyHFbAqK3V-Rw_channel-video-info.csv\n",
      "20230122_042729_シスター・クレア_UC1zFJrfEKvCixhsjNSb1toQ_channel-video-info.csv\n",
      "20230122_042129_さくらみこ_UC-hM6YJuNYVAmUWxeIr9FeA_channel-video-info.csv\n",
      "20230122_042615_大空スバル_UCvzGlP9oQwU--Y0r9id_jnA_channel-video-info.csv\n",
      "20230122_042503_アンジュ・カトリーナ_UCHVXbQzkl3rDfsXWo8xi2qw_channel-video-info.csv\n",
      "20230122_042247_天音かなた_UCZlDXzGoo7d44bwdNObFacg_channel-video-info.csv\n",
      "20230122_045243_リゼ・ヘルエスタ_UCZ1xuCK1kNmn5RzPYIZop3w_channel-video-info.csv\n",
      "20230122_042402_宝鐘マリン_UCCzUftO8KOVkV4wQG1vkUvg_channel-video-info.csv\n"
     ]
    }
   ],
   "source": [
    "URLs = {}\n",
    "for files in os.listdir(\"./csv\"):\n",
    "    tmp = []\n",
    "    print(files)\n",
    "    with open(\"./csv/\" + files) as f:\n",
    "        reader = csv.reader(f)\n",
    "        for row in reader:\n",
    "            tmp.append(row[3])\n",
    "            \n",
    "    name = files.split(\"_\")[2]\n",
    "    URLs[name] = tmp"
   ]
  },
  {
   "cell_type": "code",
   "execution_count": 25,
   "id": "61949a81-5975-4b33-bf8a-6f8eee4be1eb",
   "metadata": {},
   "outputs": [
    {
     "data": {
      "text/plain": [
       "dict_keys(['雪花ラミィ', '花畑チャイカ', '不知火フレア', '博衣こより', 'シスター・クレア', 'さくらみこ', '大空スバル', 'アンジュ・カトリーナ', '天音かなた', 'リゼ・ヘルエスタ', '宝鐘マリン'])"
      ]
     },
     "execution_count": 25,
     "metadata": {},
     "output_type": "execute_result"
    }
   ],
   "source": [
    "URLs.keys()"
   ]
  },
  {
   "cell_type": "markdown",
   "id": "096d4a81-64d6-4104-a3eb-3dda2bd699fc",
   "metadata": {},
   "source": [
    "# 音声ファイルを保存\n",
    "\n",
    "https://shizenkarasuzon.hatenablog.com/entry/2019/02/03/123545"
   ]
  },
  {
   "cell_type": "code",
   "execution_count": 32,
   "id": "dd3926fa-52d4-40f4-a5ff-a1e06208e70e",
   "metadata": {},
   "outputs": [
    {
     "name": "stdout",
     "output_type": "stream",
     "text": [
      "[youtube] VsITH5sikVY: Downloading webpage\n",
      "[download] Destination: sample_music.webm\n",
      "[download] 100% of 453.50KiB in 00:0536KiB/s ETA 00:003\n",
      "[ffmpeg] Destination: sample_music.mp3\n",
      "Deleting original file sample_music.webm (pass -k to keep)\n",
      "[ffmpeg] Adding metadata to 'sample_music.mp3'\n"
     ]
    }
   ],
   "source": [
    "ydl_opts = {\n",
    "    'format': 'bestaudio/best',\n",
    "    'outtmpl':  \"sample_music\" + '.%(ext)s',\n",
    "    'postprocessors': [\n",
    "        {'key': 'FFmpegExtractAudio',\n",
    "        'preferredcodec': 'mp3',\n",
    "         'preferredquality': '192'},\n",
    "        {'key': 'FFmpegMetadata'},\n",
    "    ],\n",
    "}\n",
    "\n",
    "ydl = youtube_dl.YoutubeDL(ydl_opts)\n",
    "info_dict = ydl.extract_info(\"https://www.youtube.com/watch?v=VsITH5sikVY\", download=True)"
   ]
  },
  {
   "cell_type": "markdown",
   "id": "6b6eeb5f-0c67-4ce1-b421-6d83f76a29af",
   "metadata": {},
   "source": [
    "# 音声ファイルをwhisperを用いて文字起こし "
   ]
  },
  {
   "cell_type": "code",
   "execution_count": null,
   "id": "43f71112-a053-459e-a804-6de2ea37d0d4",
   "metadata": {},
   "outputs": [],
   "source": []
  },
  {
   "cell_type": "markdown",
   "id": "79063280-a2df-4ae0-9d05-218b300a1eb0",
   "metadata": {},
   "source": [
    "# 文字起こしの内容をtranscriptionに保存"
   ]
  },
  {
   "cell_type": "code",
   "execution_count": null,
   "id": "c8870a9c-ff0a-4a16-b026-1cbc24613d5e",
   "metadata": {},
   "outputs": [],
   "source": []
  }
 ],
 "metadata": {
  "kernelspec": {
   "display_name": "Python 3 (ipykernel)",
   "language": "python",
   "name": "python3"
  },
  "language_info": {
   "codemirror_mode": {
    "name": "ipython",
    "version": 3
   },
   "file_extension": ".py",
   "mimetype": "text/x-python",
   "name": "python",
   "nbconvert_exporter": "python",
   "pygments_lexer": "ipython3",
   "version": "3.8.13"
  }
 },
 "nbformat": 4,
 "nbformat_minor": 5
}
