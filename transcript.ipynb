{
 "cells": [
  {
   "cell_type": "markdown",
   "id": "8fbc51ab-0c78-4afd-a81c-5318f61983d5",
   "metadata": {},
   "source": [
    "# 目的\n",
    "youtubeから動画のURLを取得し，文字起こしを行う．\n",
    "以下の手順で進める．\n",
    "\n",
    "* csvから動画のURLを取得\n",
    "* 動画を保存し音声ファイルに変換\n",
    "* 音声ファイルをwhisperを用いて文字起こし\n",
    "* 文字起こしの内容をtranscriptionに保存する\n",
    "* 動画と音声ファイルは削除する"
   ]
  },
  {
   "cell_type": "markdown",
   "id": "e9df1676-7171-4c54-a89f-ac795c314e34",
   "metadata": {},
   "source": [
    "# import "
   ]
  },
  {
   "cell_type": "code",
   "execution_count": 1,
   "id": "43bb1030-952e-4b7a-af1f-bd8f8f890de0",
   "metadata": {},
   "outputs": [],
   "source": [
    "import csv\n",
    "import os\n",
    "import youtube_dl\n",
    "import whisper"
   ]
  },
  {
   "cell_type": "markdown",
   "id": "032bf00e-09ee-4fbb-90bd-000dc30ce046",
   "metadata": {},
   "source": [
    "# csvからURLを取得"
   ]
  },
  {
   "cell_type": "code",
   "execution_count": 16,
   "id": "736494cf-2f62-45d5-806f-369c6da7b7fa",
   "metadata": {},
   "outputs": [
    {
     "name": "stdout",
     "output_type": "stream",
     "text": [
      "20230122_045621_雪花ラミィ_UCFKOVgVbGmX65RxO3EtH3iw_channel-video-info.csv\n",
      "20230122_045942_花畑チャイカ_UCsFn_ueskBkMCEyzCEqAOvg_channel-video-info.csv\n",
      "20230122_045838_不知火フレア_UCvInZx9h3jC2JzsIzoOebWg_channel-video-info.csv\n",
      "20230122_041818_博衣こより_UC6eWCld0KwmyHFbAqK3V-Rw_channel-video-info.csv\n",
      "20230122_042729_シスター・クレア_UC1zFJrfEKvCixhsjNSb1toQ_channel-video-info.csv\n",
      "20230122_042129_さくらみこ_UC-hM6YJuNYVAmUWxeIr9FeA_channel-video-info.csv\n",
      "20230122_042615_大空スバル_UCvzGlP9oQwU--Y0r9id_jnA_channel-video-info.csv\n",
      "20230122_042503_アンジュ・カトリーナ_UCHVXbQzkl3rDfsXWo8xi2qw_channel-video-info.csv\n",
      "20230122_042247_天音かなた_UCZlDXzGoo7d44bwdNObFacg_channel-video-info.csv\n",
      "20230122_045243_リゼ・ヘルエスタ_UCZ1xuCK1kNmn5RzPYIZop3w_channel-video-info.csv\n",
      "20230122_042402_宝鐘マリン_UCCzUftO8KOVkV4wQG1vkUvg_channel-video-info.csv\n"
     ]
    }
   ],
   "source": [
    "TitleURLs = {}\n",
    "\n",
    "for files in os.listdir(\"./csv\"):\n",
    "    tmp = []\n",
    "    print(files)\n",
    "    with open(\"./csv/\" + files) as f:\n",
    "        reader = csv.reader(f)\n",
    "        for row in reader:\n",
    "            tmp.append((row[1], row[3]))\n",
    "            \n",
    "    name = files.split(\"_\")[2]\n",
    "    TitleURLs[name] = tmp"
   ]
  },
  {
   "cell_type": "code",
   "execution_count": 17,
   "id": "61949a81-5975-4b33-bf8a-6f8eee4be1eb",
   "metadata": {},
   "outputs": [
    {
     "data": {
      "text/plain": [
       "['雪花ラミィ',\n",
       " '花畑チャイカ',\n",
       " '不知火フレア',\n",
       " '博衣こより',\n",
       " 'シスター・クレア',\n",
       " 'さくらみこ',\n",
       " '大空スバル',\n",
       " 'アンジュ・カトリーナ',\n",
       " '天音かなた',\n",
       " 'リゼ・ヘルエスタ',\n",
       " '宝鐘マリン']"
      ]
     },
     "execution_count": 17,
     "metadata": {},
     "output_type": "execute_result"
    }
   ],
   "source": [
    "list(TitleURLs.keys())"
   ]
  },
  {
   "cell_type": "code",
   "execution_count": 18,
   "id": "60868451-a61c-4448-90d3-e7a498369617",
   "metadata": {},
   "outputs": [
    {
     "data": {
      "text/plain": [
       "('＃０５【 ドラクエIV 】第五章、いざキングレオ！！目指せ瞬殺【雪花ラミィ/ホロライブ】※ネタバレあり',\n",
       " 'https://www.youtube.com/watch?v=mtI6kTzjEyQ')"
      ]
     },
     "execution_count": 18,
     "metadata": {},
     "output_type": "execute_result"
    }
   ],
   "source": [
    "TitleURLs[\"雪花ラミィ\"][1]"
   ]
  },
  {
   "cell_type": "markdown",
   "id": "096d4a81-64d6-4104-a3eb-3dda2bd699fc",
   "metadata": {},
   "source": [
    "# 音声ファイルを保存\n",
    "\n",
    "https://shizenkarasuzon.hatenablog.com/entry/2019/02/03/123545"
   ]
  },
  {
   "cell_type": "code",
   "execution_count": 4,
   "id": "dd3926fa-52d4-40f4-a5ff-a1e06208e70e",
   "metadata": {},
   "outputs": [
    {
     "name": "stdout",
     "output_type": "stream",
     "text": [
      "[youtube] NKMnJHSZGJY: Downloading webpage\n",
      "[download] Destination: sample_music.webm\n",
      "[download] 100% of 3.38MiB in 00:4679KiB/s ETA 00:006\n",
      "[ffmpeg] Destination: sample_music.mp3\n",
      "Deleting original file sample_music.webm (pass -k to keep)\n",
      "[ffmpeg] Adding metadata to 'sample_music.mp3'\n"
     ]
    }
   ],
   "source": [
    "ydl_opts = {\n",
    "    'format': 'bestaudio/best',\n",
    "    'outtmpl':  \"sample_music\" + '.%(ext)s',\n",
    "    'postprocessors': [\n",
    "        {'key': 'FFmpegExtractAudio',\n",
    "        'preferredcodec': 'mp3',\n",
    "         'preferredquality': '192'},\n",
    "        {'key': 'FFmpegMetadata'},\n",
    "    ],\n",
    "}\n",
    "\n",
    "ydl = youtube_dl.YoutubeDL(ydl_opts)\n",
    "info_dict = ydl.extract_info(\"https://www.youtube.com/watch?v=NKMnJHSZGJY\", download=True)"
   ]
  },
  {
   "cell_type": "markdown",
   "id": "6b6eeb5f-0c67-4ce1-b421-6d83f76a29af",
   "metadata": {},
   "source": [
    "# 音声ファイルをwhisperを用いて文字起こし "
   ]
  },
  {
   "cell_type": "code",
   "execution_count": 5,
   "id": "43f71112-a053-459e-a804-6de2ea37d0d4",
   "metadata": {},
   "outputs": [
    {
     "name": "stderr",
     "output_type": "stream",
     "text": [
      "100%|██████████| 21546/21546 [01:02<00:00, 344.07frames/s]"
     ]
    },
    {
     "name": "stdout",
     "output_type": "stream",
     "text": [
      "ということで本日はホロタイピングというこちらファンメイドのタイピングゲームえぇーカナタソエディションっていうですねカナタ先輩が主人公のホロライブ独自のタイピングゲームをやっていきたいと思いまーすいぇーいワイレットコマッスルミナトワクワサクラミコワクワクエブリデイガウルグラはぁー怖い怖い怖い怖い怖いよーヒッティラーあ、これあれかあの小さいあのー待ってしゃべれない始まる始まるステップアンドどう?あ、あんま変わらねーやっぱしゃべれねーマジでこれ本気でやろうと思うとねマジでしゃべれねーのですよどう?ま、配信を完全にしてればもっといけるはずSになれるはずいやーちょっとS狙いたいなーいける気がしない?ね?あ、315まであとちょっと確かに自分の誕生日超えていこう315よし行くぞ【早送り】あ!なにこれ!なになに!これがホロライブだ!なに?【早送り】【早送り】なんか!あ!来たー!【早送り】やっぱ配信してるとSになるってことよー!イエーイ!なにこれ!147万3500?え?えーーー!なに今の!なに今の!え、な、え、な、なんかこれがホロライブだって出たんだけどなんだと!化け物!待って!こういう日のことすぐ化け物呼ばわりするのやめてくれますか?\n"
     ]
    },
    {
     "name": "stderr",
     "output_type": "stream",
     "text": [
      "\n"
     ]
    }
   ],
   "source": [
    "model = whisper.load_model(\"large\")\n",
    "result = model.transcribe(\"./sample_music.mp3\", verbose=False, fp16=True, language=\"ja\")\n",
    "\n",
    "print(result[\"text\"])"
   ]
  },
  {
   "cell_type": "markdown",
   "id": "79063280-a2df-4ae0-9d05-218b300a1eb0",
   "metadata": {},
   "source": [
    "# 文字起こしの内容をtranscriptionに保存"
   ]
  },
  {
   "cell_type": "code",
   "execution_count": 7,
   "id": "c8870a9c-ff0a-4a16-b026-1cbc24613d5e",
   "metadata": {},
   "outputs": [],
   "source": [
    "with open(\"./transcription/test.txt\", \"w\") as f:\n",
    "    f.write(result[\"text\"])"
   ]
  },
  {
   "cell_type": "code",
   "execution_count": 19,
   "id": "115472d2-5ccb-40d0-b505-c05d4c9ef029",
   "metadata": {},
   "outputs": [],
   "source": [
    "os.remove(\"./sample_music.mp3\")"
   ]
  },
  {
   "cell_type": "code",
   "execution_count": null,
   "id": "181e9eb7-57d9-49a8-97a6-4a0a6f42996c",
   "metadata": {},
   "outputs": [],
   "source": []
  }
 ],
 "metadata": {
  "kernelspec": {
   "display_name": "Python 3 (ipykernel)",
   "language": "python",
   "name": "python3"
  },
  "language_info": {
   "codemirror_mode": {
    "name": "ipython",
    "version": 3
   },
   "file_extension": ".py",
   "mimetype": "text/x-python",
   "name": "python",
   "nbconvert_exporter": "python",
   "pygments_lexer": "ipython3",
   "version": "3.8.15"
  }
 },
 "nbformat": 4,
 "nbformat_minor": 5
}
