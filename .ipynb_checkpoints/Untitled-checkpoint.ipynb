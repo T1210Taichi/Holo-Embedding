{
 "cells": [
  {
   "cell_type": "markdown",
   "id": "22b47b9f-4f30-46af-ae49-24bc674256ee",
   "metadata": {},
   "source": [
    "# 目的\n",
    "やりたいこととしては、ホロライブの動画をEmbeddingし、現在と過去の違いを見れたりしないかなと思う。\n",
    "まずはyoutubeから動画を取得し、whisperで文字起こしを行う。\n",
    "それを用いて、言語モデルを作成し、最初と最新の雑談配信を比較する。\n",
    "\n",
    "またそれ以外にも、単語に基づいた考察を行いたい。\n",
    "\n",
    "メンバーとしては、動画数をまだ少ない博衣こよりで行う。"
   ]
  },
  {
   "cell_type": "markdown",
   "id": "a58bab70-4116-4bac-8c42-39632535da97",
   "metadata": {},
   "source": [
    "# import"
   ]
  },
  {
   "cell_type": "markdown",
   "id": "aa8ae25e-69bb-42e1-a990-4321e0f8b65f",
   "metadata": {},
   "source": [
    "# 文字お越し"
   ]
  },
  {
   "cell_type": "markdown",
   "id": "466a02ba-f592-4680-8108-191c14ea6151",
   "metadata": {},
   "source": [
    "# 言語モデル"
   ]
  },
  {
   "cell_type": "code",
   "execution_count": null,
   "id": "a2da6875-b2e1-4103-91b0-200a6f0f256f",
   "metadata": {},
   "outputs": [],
   "source": []
  }
 ],
 "metadata": {
  "kernelspec": {
   "display_name": "Python 3 (ipykernel)",
   "language": "python",
   "name": "python3"
  },
  "language_info": {
   "codemirror_mode": {
    "name": "ipython",
    "version": 3
   },
   "file_extension": ".py",
   "mimetype": "text/x-python",
   "name": "python",
   "nbconvert_exporter": "python",
   "pygments_lexer": "ipython3",
   "version": "3.8.15"
  }
 },
 "nbformat": 4,
 "nbformat_minor": 5
}
